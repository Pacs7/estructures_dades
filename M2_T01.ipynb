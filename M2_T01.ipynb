{
 "cells": [
  {
   "cell_type": "markdown",
   "id": "9556cf0c",
   "metadata": {},
   "source": [
    "# Sprint 2\n",
    "## Tasca M2 T01\n",
    "\n",
    "### Exercici 1\n",
    "Crea una llista que agrupi els mesos de l’any en trimestres (1T: gener, febrer i març; 2T: abril, maig, juny...), és a dir, una llista amb 4 llistes dins."
   ]
  },
  {
   "cell_type": "code",
   "execution_count": 1,
   "id": "0f4c389b",
   "metadata": {},
   "outputs": [
    {
     "name": "stdout",
     "output_type": "stream",
     "text": [
      "Trimestres = [['gener', 'febrer', 'març'], ['abril', 'maig', 'juny'], ['juliol', 'agost', 'septembre'], ['octubre', 'novembre', 'desembre']]\n"
     ]
    }
   ],
   "source": [
    "months = [\"gener\",\"febrer\",\"març\",\n",
    "         \"abril\",\"maig\",\"juny\",\n",
    "         \"juliol\",\"agost\",\"septembre\",\n",
    "         \"octubre\",\"novembre\",\"desembre\"]\n",
    "Trims=[]\n",
    "l=1\n",
    "for ii in range(int(len(months)/3)):\n",
    "    Trims.append(months[l-1:l+2])\n",
    "    l=l+3\n",
    "print(\"Trimestres =\",Trims)"
   ]
  },
  {
   "cell_type": "markdown",
   "id": "3e45ac2b",
   "metadata": {},
   "source": [
    "### Exercici 2\n",
    "Crea un codi que et permeti accedir a:\n",
    "\n",
    "- El segon mes del primer trimestre.\n",
    "- Els mesos del primer trimestre.\n",
    "- Setembre i octubre."
   ]
  },
  {
   "cell_type": "code",
   "execution_count": 2,
   "id": "d60c7058",
   "metadata": {},
   "outputs": [
    {
     "name": "stdout",
     "output_type": "stream",
     "text": [
      "El segon mes del primer trimestre: febrer\n",
      "\n",
      "Els mesos del primer trimestre: ['gener', 'febrer', 'març']\n",
      "\n",
      "Setembre i octubre: ['septembre', 'octubre']\n"
     ]
    }
   ],
   "source": [
    "def trimsearch(Trims,*args):\n",
    "    varargin = args\n",
    "    nargin = 1+len(varargin)\n",
    "    month=[]\n",
    "    trimm=[]\n",
    "    if nargin==2:\n",
    "        ntrim=varargin[0]\n",
    "        if ntrim<4:\n",
    "            trimm=Trims[ntrim]\n",
    "        else:\n",
    "            print(\"Invalid trimester\")\n",
    "            \n",
    "    elif nargin==3: \n",
    "        nmonth=varargin[1]\n",
    "        ntrim=varargin[0]\n",
    "        trimm=Trims[ntrim]\n",
    "        if nmonth<3:\n",
    "            month=trimm[nmonth]\n",
    "        else:\n",
    "            print(\"Invalid month\")\n",
    "    elif nargin==4:\n",
    "        specm=varargin[2]\n",
    "        for ii in range(len(specm)):\n",
    "            tm=0\n",
    "            ll=specm[ii]\n",
    "            while ll>2:\n",
    "                tm+=1\n",
    "                ll=ll-3\n",
    "            trimm.append(Trims[tm])\n",
    "            month.append(Trims[tm][ll])\n",
    "    return trimm,month\n",
    "\n",
    "trimm,month=trimsearch(Trims,0,1)\n",
    "\n",
    "print(\"El segon mes del primer trimestre:\",month)\n",
    "\n",
    "trimm,month=trimsearch(Trims,0)\n",
    "\n",
    "print(\"\\nEls mesos del primer trimestre:\",trimm)\n",
    "\n",
    "trimm,month=trimsearch(Trims,0,0,[8,9])\n",
    "\n",
    "print(\"\\nSetembre i octubre:\",month)"
   ]
  },
  {
   "cell_type": "markdown",
   "id": "cf0bd5d5",
   "metadata": {},
   "source": [
    "### Exercici 3\n",
    "Crea una llista amb nombres desordenats i respon a les següents preguntes:\n",
    "\n",
    "- Quants números hi ha?\n",
    "- Quantes vegades apareix el número 3.\n",
    "- Quantes vegades apareixen els nombres 3 i 4?\n",
    "- Quin és el número més gran?\n",
    "- Quins són els 3 números més petits?\n",
    "- Quin és el rang d’aquesta llista?"
   ]
  },
  {
   "cell_type": "code",
   "execution_count": 3,
   "id": "59272d95",
   "metadata": {},
   "outputs": [
    {
     "name": "stdout",
     "output_type": "stream",
     "text": [
      "[10, 6, 9, 3, 7, 5, 9, 7, 2, 10]\n",
      "\n",
      "Hi ha 10 números.\n",
      "\n",
      "Apareix 1 vegada/es el número 3.\n",
      "\n",
      "Apareixen 1 vegada/es els números 3 i 4.\n",
      "\n",
      "El número més gran és el 10\n",
      "\n",
      "Els tres números més petits són 2 , 3 , 5\n",
      "\n",
      "El rang de la llista és 9\n"
     ]
    }
   ],
   "source": [
    "import random\n",
    "\n",
    "rand_list=[]\n",
    "n=10\n",
    "for ii in range(n):\n",
    "    rand_list.append(random.randint(1,10))\n",
    "\n",
    "print(rand_list)\n",
    "numbers=len(rand_list)\n",
    "print(\"\\nHi ha\",numbers,\"números.\")\n",
    "\n",
    "ttimes=rand_list.count(3)\n",
    "\n",
    "print(\"\\nApareix\",ttimes,\"vegada/es el número 3.\")\n",
    "\n",
    "tftimes=rand_list.count(3)+rand_list.count(4)\n",
    "\n",
    "print(\"\\nApareixen\",tftimes,\"vegada/es els números 3 i 4.\")\n",
    "\n",
    "maxnum=max(rand_list)\n",
    "\n",
    "print(\"\\nEl número més gran és el\",maxnum)\n",
    "\n",
    "tmin=rand_list\n",
    "tmin.sort()\n",
    "\n",
    "print(\"\\nEls tres números més petits són\",tmin[0],\",\",tmin[1],\",\",tmin[2])\n",
    "\n",
    "rang=max(rand_list)-min(rand_list)+1\n",
    "\n",
    "print(\"\\nEl rang de la llista és\",rang)"
   ]
  },
  {
   "cell_type": "markdown",
   "id": "8f8f9663",
   "metadata": {},
   "source": [
    "### Exercici 4\n",
    "Crea un diccionari de la següent forma i respon a les preguntes:\n",
    "\n",
    "compra = { \"Pomes\" : {\"Qty\": 5, \"€\": 0.42}, \"Peres\" : {\"Qty\": 3, \"€\": 0.66} }\n",
    "\n",
    "- Afegeix alguna fruita més\n",
    "- Quant han costat les peres en total?\n",
    "- Quantes fruites hem comprat en total?\n",
    "- Quina és la fruita més cara?"
   ]
  },
  {
   "cell_type": "code",
   "execution_count": 4,
   "id": "1deb62a5",
   "metadata": {},
   "outputs": [
    {
     "name": "stdout",
     "output_type": "stream",
     "text": [
      "{'Pomes': {'Qty': 5, '€': 0.42}, 'Peres': {'Qty': 3, '€': 0.66}, 'Mandarines': {'Qty': 18, '€': 0.14}}\n",
      "\n",
      " Total peres = 1.98 €\n",
      "\n",
      " Número de fruites totals = 26\n",
      "\n",
      " Les fruites més cara són les Peres\n"
     ]
    }
   ],
   "source": [
    "compra = { \"Pomes\" : {\"Qty\": 5, \"€\": 0.42}, \"Peres\" : {\"Qty\": 3, \"€\": 0.66} }\n",
    "\n",
    "compra[\"Mandarines\"] = {\"Qty\":18, \"€\": 0.14}\n",
    "print(compra)\n",
    "\n",
    "peres = compra.get(\"Peres\")\n",
    "totperes = peres[\"Qty\"]*peres[\"€\"]\n",
    "print(\"\\n Total peres =\",totperes,\"€\")\n",
    "\n",
    "fruitc=0\n",
    "\n",
    "for k,v in compra.items():\n",
    "    fruitc=v[\"Qty\"]+fruitc\n",
    "    \n",
    "print(\"\\n Número de fruites totals =\",fruitc)\n",
    "\n",
    "fruitm=0\n",
    "for k,v in compra.items():\n",
    "    if fruitm<v[\"€\"]:\n",
    "        fruitm=v[\"€\"]\n",
    "        fruitin=k\n",
    "    \n",
    "print(\"\\n Les fruites més cara són les\",fruitin)"
   ]
  }
 ],
 "metadata": {
  "kernelspec": {
   "display_name": "Python 3",
   "language": "python",
   "name": "python3"
  },
  "language_info": {
   "codemirror_mode": {
    "name": "ipython",
    "version": 3
   },
   "file_extension": ".py",
   "mimetype": "text/x-python",
   "name": "python",
   "nbconvert_exporter": "python",
   "pygments_lexer": "ipython3",
   "version": "3.8.8"
  }
 },
 "nbformat": 4,
 "nbformat_minor": 5
}
